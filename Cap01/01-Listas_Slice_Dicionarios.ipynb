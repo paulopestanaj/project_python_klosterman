{
 "cells": [
  {
   "cell_type": "markdown",
   "metadata": {},
   "source": [
    "# Capítulo 01 - Exploração e limpeza de dados"
   ]
  },
  {
   "cell_type": "markdown",
   "metadata": {},
   "source": [
    "### Objetivos\n",
    "\n",
    "- Executar operações básicas em Python\n",
    "- Descrever o contexto empresarial dos dados do estudo de caso e sua adequação a tarefa\n",
    "- Executar operações de limpeza de dados\n",
    "- Examinar sínteses estatísticas e visualizar os dados do estudo de caso\n",
    "- Implementar a codificação `one-hot enconding` em variáveis categóricas."
   ]
  },
  {
   "cell_type": "markdown",
   "metadata": {},
   "source": [
    "## Criação e indexação de lista | Slicing"
   ]
  },
  {
   "cell_type": "markdown",
   "metadata": {},
   "source": [
    "Para criar uma lista, que é uma coleção ***mutável*** que pode conter qualquer dado, vamos usar a função `list()`.\n",
    "Também utilizaremos a função `range()` para preencher nossa lista com números inteiros consecutivos.\n",
    "\n",
    "Resumindo: A função `range()` vai iterar os números que converteremos em uma lista com a função `list()`."
   ]
  },
  {
   "cell_type": "code",
   "execution_count": 3,
   "metadata": {},
   "outputs": [
    {
     "data": {
      "text/plain": [
       "[1, 2, 3, 4, 5]"
      ]
     },
     "execution_count": 3,
     "metadata": {},
     "output_type": "execute_result"
    }
   ],
   "source": [
    "example_list = list(range(1,6))\n",
    "example_list"
   ]
  },
  {
   "cell_type": "markdown",
   "metadata": {},
   "source": [
    "Apesar de termos colocado nosso `range` de 1 a 6, a função retornou uma lista de 1 a 5.\n",
    "Isso porque a função retorna todos os números **até** o número final, sendo que esse número não entra na contagem. Portanto, nosso range foi de 1 a 5.\n",
    "Essa mesma lógica pode ser aplicada quando formos fazer nosso slice. \n",
    "\n",
    "O slice serve para fazer uma seleção de múltiplos elementos de uma coleção ordenada dentro de um intevalo.\n",
    "Em outras palvaras, serve para 'recortar-mos' uma amostra da nossa lista.\n",
    "\n",
    "Para isso, precisamos colocar entre colchetes a posição do elemento que queremos dentro da lista. As listas em Python começam da posição **0**."
   ]
  },
  {
   "cell_type": "code",
   "execution_count": 4,
   "metadata": {},
   "outputs": [
    {
     "data": {
      "text/plain": [
       "1"
      ]
     },
     "execution_count": 4,
     "metadata": {},
     "output_type": "execute_result"
    }
   ],
   "source": [
    "example_list[0]"
   ]
  },
  {
   "cell_type": "code",
   "execution_count": 5,
   "metadata": {},
   "outputs": [
    {
     "data": {
      "text/plain": [
       "2"
      ]
     },
     "execution_count": 5,
     "metadata": {},
     "output_type": "execute_result"
    }
   ],
   "source": [
    "example_list[1]"
   ]
  },
  {
   "cell_type": "markdown",
   "metadata": {},
   "source": [
    "Veja que quando realizamos o slice na posição *0*, temos o retorno do primeiro elemento da nossa lista. Se mudarmos a posição para **1**, o retorno é o segundo elemento, e assim por diante.\n",
    "\n",
    "Mas e se quisermos fazer o retorno pelo último elemento e ir regredindo? Para isso podemos chamar nossa lista na posição **-1**, que retornará o último elemento, **-2** retornará o penúltimo elemento, e assim por diante."
   ]
  },
  {
   "cell_type": "code",
   "execution_count": 6,
   "metadata": {},
   "outputs": [
    {
     "data": {
      "text/plain": [
       "5"
      ]
     },
     "execution_count": 6,
     "metadata": {},
     "output_type": "execute_result"
    }
   ],
   "source": [
    "example_list[-1]"
   ]
  },
  {
   "cell_type": "code",
   "execution_count": 7,
   "metadata": {},
   "outputs": [
    {
     "data": {
      "text/plain": [
       "4"
      ]
     },
     "execution_count": 7,
     "metadata": {},
     "output_type": "execute_result"
    }
   ],
   "source": [
    "example_list[-2]"
   ]
  },
  {
   "cell_type": "markdown",
   "metadata": {},
   "source": [
    "Show de bolete, né? Mas ainda podemos ir mais além. Se precisarmos trazer os três primeiros elementos da lista? E os três últimos? Para isso, podemos incluir o sinal **:**.\n",
    "\n",
    "- Se colocarmos antes do valor final, ele retornará todos os elementos até a posição final informada. \n",
    "- Se colocarmos após o valor final, ele retornará daquela posição informada até a última."
   ]
  },
  {
   "cell_type": "code",
   "execution_count": 8,
   "metadata": {},
   "outputs": [
    {
     "data": {
      "text/plain": [
       "[1, 2, 3]"
      ]
     },
     "execution_count": 8,
     "metadata": {},
     "output_type": "execute_result"
    }
   ],
   "source": [
    "example_list[:3]"
   ]
  },
  {
   "cell_type": "code",
   "execution_count": 12,
   "metadata": {},
   "outputs": [
    {
     "data": {
      "text/plain": [
       "[4, 5]"
      ]
     },
     "execution_count": 12,
     "metadata": {},
     "output_type": "execute_result"
    }
   ],
   "source": [
    "example_list[3:]"
   ]
  },
  {
   "cell_type": "markdown",
   "metadata": {},
   "source": [
    "No primeiro caso, o retorno são os elementos da posição 0, 1 e 2. Já no segundo, são retornados os elementos da posição 3 até o final.\n",
    "\n",
    "Poderiamos usar a mesma lógica para retornar na ordem inversa."
   ]
  },
  {
   "cell_type": "code",
   "execution_count": 16,
   "metadata": {},
   "outputs": [
    {
     "data": {
      "text/plain": [
       "[1, 2]"
      ]
     },
     "execution_count": 16,
     "metadata": {},
     "output_type": "execute_result"
    }
   ],
   "source": [
    "example_list[:-3]"
   ]
  },
  {
   "cell_type": "code",
   "execution_count": 17,
   "metadata": {},
   "outputs": [
    {
     "data": {
      "text/plain": [
       "[3, 4, 5]"
      ]
     },
     "execution_count": 17,
     "metadata": {},
     "output_type": "execute_result"
    }
   ],
   "source": [
    "example_list[-3:]"
   ]
  },
  {
   "cell_type": "markdown",
   "metadata": {},
   "source": [
    "No primeiro caso, são retornados todos os elementos anterirores ao antepenúltimo elemento. E no segundo caso, são retornados do antepenúltimo até o final.\n",
    "\n",
    "E se quisessemos mudar algum valor dessa lista em uma posição específica? É possível fazer a atribuição desse novo valor, puxando o índice que você deseja alterar dentro dessa lista.\n",
    "\n",
    "Vamos supor que ao ínves do número 1 no primeiro elemento, quisessemos mudar para um texto com a palavra 'primeiro'. Poderiamos atribuir a string 'primeiro, na posição **0** da nossa lista."
   ]
  },
  {
   "cell_type": "code",
   "execution_count": 18,
   "metadata": {},
   "outputs": [],
   "source": [
    "example_list[0] = 'primeiro'"
   ]
  },
  {
   "cell_type": "code",
   "execution_count": 19,
   "metadata": {},
   "outputs": [
    {
     "data": {
      "text/plain": [
       "['primeiro', 2, 3, 4, 5]"
      ]
     },
     "execution_count": 19,
     "metadata": {},
     "output_type": "execute_result"
    }
   ],
   "source": [
    "example_list"
   ]
  },
  {
   "cell_type": "markdown",
   "metadata": {},
   "source": [
    "Como podemos ver, realizamos a alteração de um elemento dentro de uma lista, isso é possível, pois como falamos anteriormente, a lista é uma coleção ordendata ***mutável***."
   ]
  },
  {
   "cell_type": "markdown",
   "metadata": {},
   "source": [
    "## Dicionários"
   ]
  },
  {
   "cell_type": "markdown",
   "metadata": {},
   "source": [
    "As listas são uma forma de coleções ordenadas, porém também temos as coleções não ordenadas e uma das principais delas são os *dicionários*.\n",
    "\n",
    "Dicionários são coleções de pares **chave:valor**, que difeente das listas, ao invés de procurarmos os elementos pelos índices, nos podemos procura-los pelas suas respectivas chaves, que podem ser tanto números como texto.\n",
    "\n",
    "A criação de um dicionário é dada pela abertura de chaves {} separando os pares **chave:valor** por virgulas."
   ]
  },
  {
   "cell_type": "code",
   "execution_count": 22,
   "metadata": {},
   "outputs": [
    {
     "data": {
      "text/plain": [
       "{'maças': 5, 'laranjas': 8}"
      ]
     },
     "execution_count": 22,
     "metadata": {},
     "output_type": "execute_result"
    }
   ],
   "source": [
    "example_dict = {'maças':5, 'laranjas': 8}\n",
    "example_dict"
   ]
  },
  {
   "cell_type": "markdown",
   "metadata": {},
   "source": [
    "Podemos ver que temos um par de chave e valor separados por **:** e os elementos desse dicionário separados por **,**\n",
    "\n",
    "Se quisessemos pegar um elemento desse dicionário, poderiamos chamar a sua respectiva ***chave*** e ele retornaria o ***valor*** referente a essa chave. "
   ]
  },
  {
   "cell_type": "code",
   "execution_count": 23,
   "metadata": {},
   "outputs": [
    {
     "data": {
      "text/plain": [
       "5"
      ]
     },
     "execution_count": 23,
     "metadata": {},
     "output_type": "execute_result"
    }
   ],
   "source": [
    "example_dict['maças']"
   ]
  },
  {
   "cell_type": "code",
   "execution_count": 24,
   "metadata": {},
   "outputs": [
    {
     "data": {
      "text/plain": [
       "8"
      ]
     },
     "execution_count": 24,
     "metadata": {},
     "output_type": "execute_result"
    }
   ],
   "source": [
    "example_dict['laranjas']"
   ]
  },
  {
   "cell_type": "markdown",
   "metadata": {},
   "source": [
    "Também seria fácil modificar o valor de um elemento, atribuindo esse novo calor a chave desejada."
   ]
  },
  {
   "cell_type": "code",
   "execution_count": 25,
   "metadata": {},
   "outputs": [
    {
     "data": {
      "text/plain": [
       "{'maças': 13, 'laranjas': 8}"
      ]
     },
     "execution_count": 25,
     "metadata": {},
     "output_type": "execute_result"
    }
   ],
   "source": [
    "example_dict['maças'] = 13\n",
    "example_dict"
   ]
  },
  {
   "cell_type": "markdown",
   "metadata": {},
   "source": [
    "## Convertendo dicionários em listas"
   ]
  },
  {
   "cell_type": "markdown",
   "metadata": {},
   "source": [
    "É possível realizar converter as chaves do dicionário em uma lista, sabia? Precisariamos só chamar nossa função `list()` para nosso dicionario e atribruir a uma nova variável."
   ]
  },
  {
   "cell_type": "code",
   "execution_count": 37,
   "metadata": {},
   "outputs": [
    {
     "data": {
      "text/plain": [
       "['maças', 'laranjas']"
      ]
     },
     "execution_count": 37,
     "metadata": {},
     "output_type": "execute_result"
    }
   ],
   "source": [
    "dict_to_list = list(example_dict)\n",
    "dict_to_list"
   ]
  },
  {
   "cell_type": "markdown",
   "metadata": {},
   "source": [
    "Se quisessemos pegar o valor do dicionário ao invés da chave, poderiamos acrescentar o método **.values** depois do nosso dicionário."
   ]
  },
  {
   "cell_type": "code",
   "execution_count": 28,
   "metadata": {},
   "outputs": [
    {
     "data": {
      "text/plain": [
       "[13, 8]"
      ]
     },
     "execution_count": 28,
     "metadata": {},
     "output_type": "execute_result"
    }
   ],
   "source": [
    "dict_to_list_values = list(example_dict.values())\n",
    "dict_to_list_values"
   ]
  },
  {
   "cell_type": "markdown",
   "metadata": {},
   "source": [
    "## Adicionando novos valores a uma lista"
   ]
  },
  {
   "cell_type": "markdown",
   "metadata": {},
   "source": [
    "Se quisermos colocar novas frutas na nossa lista? Como podemos realizar?\n",
    "\n",
    "Existem algumas formas de colocar novos valores em listas e iremos mostrar alguns"
   ]
  },
  {
   "cell_type": "markdown",
   "metadata": {},
   "source": [
    "#### Usando a concantenação com **+**"
   ]
  },
  {
   "cell_type": "code",
   "execution_count": 38,
   "metadata": {},
   "outputs": [
    {
     "data": {
      "text/plain": [
       "['maças', 'laranjas', 'bananas']"
      ]
     },
     "execution_count": 38,
     "metadata": {},
     "output_type": "execute_result"
    }
   ],
   "source": [
    "dict_to_list = dict_to_list + ['bananas']\n",
    "dict_to_list"
   ]
  },
  {
   "cell_type": "markdown",
   "metadata": {},
   "source": [
    "### Usando append()\n",
    "\n",
    "- **append**: Adiciona qualquer valor completo, por exemplo, se enviarmos um objeto, ele adiciona o objeto, se enviarmos uma lista, ele adiciona a lista inteira ao invés de seus itens.\n"
   ]
  },
  {
   "cell_type": "code",
   "execution_count": 39,
   "metadata": {},
   "outputs": [
    {
     "data": {
      "text/plain": [
       "['maças', 'laranjas', 'bananas', 'peras']"
      ]
     },
     "execution_count": 39,
     "metadata": {},
     "output_type": "execute_result"
    }
   ],
   "source": [
    "dict_to_list.append('peras')\n",
    "dict_to_list"
   ]
  }
 ],
 "metadata": {
  "kernelspec": {
   "display_name": "Python 3",
   "language": "python",
   "name": "python3"
  },
  "language_info": {
   "codemirror_mode": {
    "name": "ipython",
    "version": 3
   },
   "file_extension": ".py",
   "mimetype": "text/x-python",
   "name": "python",
   "nbconvert_exporter": "python",
   "pygments_lexer": "ipython3",
   "version": "3.8.3"
  }
 },
 "nbformat": 4,
 "nbformat_minor": 4
}
